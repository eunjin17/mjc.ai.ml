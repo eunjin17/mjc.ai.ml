{
  "nbformat": 4,
  "nbformat_minor": 0,
  "metadata": {
    "colab": {
      "provenance": [],
      "authorship_tag": "ABX9TyM7bKUObppyxogYf3/X3tXn",
      "include_colab_link": true
    },
    "kernelspec": {
      "name": "python3",
      "display_name": "Python 3"
    },
    "language_info": {
      "name": "python"
    }
  },
  "cells": [
    {
      "cell_type": "markdown",
      "metadata": {
        "id": "view-in-github",
        "colab_type": "text"
      },
      "source": [
        "<a href=\"https://colab.research.google.com/github/eunjin17/mjc.ai.ml/blob/main/Untitled5.ipynb\" target=\"_parent\"><img src=\"https://colab.research.google.com/assets/colab-badge.svg\" alt=\"Open In Colab\"/></a>"
      ]
    },
    {
      "cell_type": "code",
      "execution_count": 1,
      "metadata": {
        "colab": {
          "base_uri": "https://localhost:8080/"
        },
        "id": "uRQdvfKl0b1Q",
        "outputId": "6b1d25d6-bcc5-420c-8219-48996693c1e2"
      },
      "outputs": [
        {
          "output_type": "stream",
          "name": "stdout",
          "text": [
            "Linear Regression R2: 0.4526, MSE: 2900.1936\n",
            "Best Ridge Regression alpha: 100, R2: 0.4605\n",
            "Best Lasso Regression alpha: 1, R2: 0.4669\n",
            "\n",
            "가장 좋은 성능 모델: Lasso Regression (alpha=1) with R2 score: 0.4669\n"
          ]
        }
      ],
      "source": [
        "from sklearn.datasets import load_diabetes\n",
        "from sklearn.linear_model import LinearRegression, Ridge, Lasso\n",
        "from sklearn.preprocessing import StandardScaler\n",
        "from sklearn.model_selection import train_test_split\n",
        "from sklearn.metrics import mean_squared_error, r2_score\n",
        "import numpy as np\n",
        "\n",
        "# 데이터 로딩 및 분할\n",
        "diabetes = load_diabetes()\n",
        "X, y = diabetes.data, diabetes.target\n",
        "X_train, X_test, y_train, y_test = train_test_split(X, y, test_size=0.2, random_state=42)\n",
        "\n",
        "# 정규화\n",
        "scaler = StandardScaler()\n",
        "X_train_scaled = scaler.fit_transform(X_train)\n",
        "X_test_scaled = scaler.transform(X_test)\n",
        "\n",
        "# 1. Linear Regression\n",
        "lr = LinearRegression()\n",
        "lr.fit(X_train_scaled, y_train)\n",
        "y_pred_lr = lr.predict(X_test_scaled)\n",
        "r2_lr = r2_score(y_test, y_pred_lr)\n",
        "mse_lr = mean_squared_error(y_test, y_pred_lr)\n",
        "\n",
        "print(f\"Linear Regression R2: {r2_lr:.4f}, MSE: {mse_lr:.4f}\")\n",
        "\n",
        "# 2. Ridge Regression (L2)\n",
        "# alpha 값 조정을 위한 후보군\n",
        "alphas = [0.01, 0.1, 1, 10, 100]\n",
        "best_ridge_r2 = -np.inf\n",
        "best_ridge_alpha = None\n",
        "best_ridge_model = None\n",
        "\n",
        "for alpha in alphas:\n",
        "    ridge = Ridge(alpha=alpha)\n",
        "    ridge.fit(X_train_scaled, y_train)\n",
        "    y_pred_ridge = ridge.predict(X_test_scaled)\n",
        "    r2_ridge = r2_score(y_test, y_pred_ridge)\n",
        "    if r2_ridge > best_ridge_r2:\n",
        "        best_ridge_r2 = r2_ridge\n",
        "        best_ridge_alpha = alpha\n",
        "        best_ridge_model = ridge\n",
        "\n",
        "print(f\"Best Ridge Regression alpha: {best_ridge_alpha}, R2: {best_ridge_r2:.4f}\")\n",
        "\n",
        "# 3. Lasso Regression (L1)\n",
        "# alpha 값 조정을 위한 후보군\n",
        "alphas = [0.001, 0.01, 0.1, 1, 10]\n",
        "best_lasso_r2 = -np.inf\n",
        "best_lasso_alpha = None\n",
        "best_lasso_model = None\n",
        "\n",
        "for alpha in alphas:\n",
        "    lasso = Lasso(alpha=alpha, max_iter=10000)\n",
        "    lasso.fit(X_train_scaled, y_train)\n",
        "    y_pred_lasso = lasso.predict(X_test_scaled)\n",
        "    r2_lasso = r2_score(y_test, y_pred_lasso)\n",
        "    if r2_lasso > best_lasso_r2:\n",
        "        best_lasso_r2 = r2_lasso\n",
        "        best_lasso_alpha = alpha\n",
        "        best_lasso_model = lasso\n",
        "\n",
        "print(f\"Best Lasso Regression alpha: {best_lasso_alpha}, R2: {best_lasso_r2:.4f}\")\n",
        "\n",
        "# 가장 좋은 모델과 성능 출력\n",
        "best_score = max(r2_lr, best_ridge_r2, best_lasso_r2)\n",
        "if best_score == r2_lr:\n",
        "    best_algo = \"Linear Regression\"\n",
        "elif best_score == best_ridge_r2:\n",
        "    best_algo = f\"Ridge Regression (alpha={best_ridge_alpha})\"\n",
        "else:\n",
        "    best_algo = f\"Lasso Regression (alpha={best_lasso_alpha})\"\n",
        "\n",
        "print(f\"\\n가장 좋은 성능 모델: {best_algo} with R2 score: {best_score:.4f}\")"
      ]
    }
  ]
}